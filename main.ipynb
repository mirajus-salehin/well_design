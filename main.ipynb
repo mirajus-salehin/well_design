{
 "cells": [
  {
   "cell_type": "markdown",
   "metadata": {},
   "source": [
    "# Importing neccessary packages"
   ]
  },
  {
   "cell_type": "code",
   "execution_count": 1,
   "metadata": {},
   "outputs": [],
   "source": [
    "import pandas as pd\n",
    "import numpy as np\n",
    "import matplotlib.pyplot as plt\n",
    "import seaborn as sns\n",
    "from scipy.interpolate import lagrange, make_interp_spline, interp1d\n",
    "from numpy.polynomial import Polynomial"
   ]
  },
  {
   "cell_type": "markdown",
   "metadata": {},
   "source": [
    "# Helper function to calculate percente finer"
   ]
  },
  {
   "cell_type": "code",
   "execution_count": 2,
   "metadata": {},
   "outputs": [],
   "source": [
    "def calculate_percent_finer(df: pd.DataFrame) -> pd.DataFrame:\n",
    "     \n",
    "     \"\"\"\n",
    "     @param df: DataFrame with columns 'opening' and 'mass_retained'\n",
    "     @return: DataFrame with additional column 'p_finer' which is the percent finer\n",
    "     \"\"\"\n",
    "\n",
    "     total_mass = df.mass_retained.sum()\n",
    "     arr = []\n",
    "\n",
    "     for count, sieve in enumerate(df.opening.values):\n",
    "         cumulative_mass = sum([df.mass_retained.values[i] for i in range(count + 1)])\n",
    "         percent_finer = ((total_mass - cumulative_mass) / total_mass) * 100\n",
    "         arr.append(percent_finer)\n",
    "         \n",
    "     return df.assign(p_finer = arr)"
   ]
  },
  {
   "cell_type": "markdown",
   "metadata": {},
   "source": [
    "# Importing database and creating new databse with percente finer passing"
   ]
  },
  {
   "cell_type": "code",
   "execution_count": 3,
   "metadata": {},
   "outputs": [],
   "source": [
    "df_temp = pd.read_csv('data.csv')\n",
    "\n",
    "df = calculate_percent_finer(df_temp)"
   ]
  },
  {
   "cell_type": "markdown",
   "metadata": {},
   "source": [
    "# View dataset"
   ]
  },
  {
   "cell_type": "code",
   "execution_count": 4,
   "metadata": {},
   "outputs": [
    {
     "data": {
      "text/html": [
       "<div>\n",
       "<style scoped>\n",
       "    .dataframe tbody tr th:only-of-type {\n",
       "        vertical-align: middle;\n",
       "    }\n",
       "\n",
       "    .dataframe tbody tr th {\n",
       "        vertical-align: top;\n",
       "    }\n",
       "\n",
       "    .dataframe thead th {\n",
       "        text-align: right;\n",
       "    }\n",
       "</style>\n",
       "<table border=\"1\" class=\"dataframe\">\n",
       "  <thead>\n",
       "    <tr style=\"text-align: right;\">\n",
       "      <th></th>\n",
       "      <th>opening</th>\n",
       "      <th>mass_retained</th>\n",
       "      <th>p_finer</th>\n",
       "    </tr>\n",
       "  </thead>\n",
       "  <tbody>\n",
       "    <tr>\n",
       "      <th>0</th>\n",
       "      <td>4.750</td>\n",
       "      <td>0.0</td>\n",
       "      <td>100.000000</td>\n",
       "    </tr>\n",
       "    <tr>\n",
       "      <th>1</th>\n",
       "      <td>2.000</td>\n",
       "      <td>17.6</td>\n",
       "      <td>96.094963</td>\n",
       "    </tr>\n",
       "    <tr>\n",
       "      <th>2</th>\n",
       "      <td>0.850</td>\n",
       "      <td>56.3</td>\n",
       "      <td>83.603284</td>\n",
       "    </tr>\n",
       "    <tr>\n",
       "      <th>3</th>\n",
       "      <td>0.425</td>\n",
       "      <td>108.2</td>\n",
       "      <td>59.596184</td>\n",
       "    </tr>\n",
       "    <tr>\n",
       "      <th>4</th>\n",
       "      <td>0.250</td>\n",
       "      <td>91.9</td>\n",
       "      <td>39.205680</td>\n",
       "    </tr>\n",
       "    <tr>\n",
       "      <th>5</th>\n",
       "      <td>0.150</td>\n",
       "      <td>94.1</td>\n",
       "      <td>18.327047</td>\n",
       "    </tr>\n",
       "    <tr>\n",
       "      <th>6</th>\n",
       "      <td>0.075</td>\n",
       "      <td>57.6</td>\n",
       "      <td>5.546927</td>\n",
       "    </tr>\n",
       "    <tr>\n",
       "      <th>7</th>\n",
       "      <td>0.000</td>\n",
       "      <td>25.0</td>\n",
       "      <td>0.000000</td>\n",
       "    </tr>\n",
       "  </tbody>\n",
       "</table>\n",
       "</div>"
      ],
      "text/plain": [
       "   opening  mass_retained     p_finer\n",
       "0    4.750            0.0  100.000000\n",
       "1    2.000           17.6   96.094963\n",
       "2    0.850           56.3   83.603284\n",
       "3    0.425          108.2   59.596184\n",
       "4    0.250           91.9   39.205680\n",
       "5    0.150           94.1   18.327047\n",
       "6    0.075           57.6    5.546927\n",
       "7    0.000           25.0    0.000000"
      ]
     },
     "execution_count": 4,
     "metadata": {},
     "output_type": "execute_result"
    }
   ],
   "source": [
    "df"
   ]
  },
  {
   "cell_type": "markdown",
   "metadata": {},
   "source": [
    "# Making lagrangian interpolation"
   ]
  },
  {
   "cell_type": "code",
   "execution_count": 5,
   "metadata": {},
   "outputs": [],
   "source": [
    "l_interp = lagrange(df.p_finer.values, df.opening.values)"
   ]
  },
  {
   "cell_type": "markdown",
   "metadata": {},
   "source": [
    "# View coefficients of lagrangian interpolation"
   ]
  },
  {
   "cell_type": "code",
   "execution_count": 6,
   "metadata": {},
   "outputs": [
    {
     "data": {
      "text/plain": [
       "array([ 0.00000000e+00,  4.88514712e-02, -1.02197238e-02,  8.53135929e-04,\n",
       "       -3.17073860e-05,  5.75969310e-07, -5.00575420e-09,  1.66572586e-11])"
      ]
     },
     "execution_count": 6,
     "metadata": {},
     "output_type": "execute_result"
    }
   ],
   "source": [
    "Polynomial(l_interp.coef[::-1]).coef"
   ]
  },
  {
   "cell_type": "markdown",
   "metadata": {},
   "source": [
    "# Plot particle size analysis curve"
   ]
  },
  {
   "cell_type": "code",
   "execution_count": 7,
   "metadata": {},
   "outputs": [
    {
     "name": "stderr",
     "output_type": "stream",
     "text": [
      "/home/sayem/.local/lib/python3.11/site-packages/seaborn/_oldcore.py:1498: FutureWarning: is_categorical_dtype is deprecated and will be removed in a future version. Use isinstance(dtype, CategoricalDtype) instead\n",
      "  if pd.api.types.is_categorical_dtype(vector):\n",
      "/home/sayem/.local/lib/python3.11/site-packages/seaborn/_oldcore.py:1498: FutureWarning: is_categorical_dtype is deprecated and will be removed in a future version. Use isinstance(dtype, CategoricalDtype) instead\n",
      "  if pd.api.types.is_categorical_dtype(vector):\n",
      "/home/sayem/.local/lib/python3.11/site-packages/seaborn/_oldcore.py:1119: FutureWarning: use_inf_as_na option is deprecated and will be removed in a future version. Convert inf values to NaN before operating instead.\n",
      "  with pd.option_context('mode.use_inf_as_na', True):\n",
      "/home/sayem/.local/lib/python3.11/site-packages/seaborn/_oldcore.py:1119: FutureWarning: use_inf_as_na option is deprecated and will be removed in a future version. Convert inf values to NaN before operating instead.\n",
      "  with pd.option_context('mode.use_inf_as_na', True):\n"
     ]
    },
    {
     "data": {
      "text/plain": [
       "Text(0, 0.5, 'Percent Finer (%)')"
      ]
     },
     "execution_count": 7,
     "metadata": {},
     "output_type": "execute_result"
    },
    {
     "data": {
      "image/png": "[encoded data removed]",
      "text/plain": [
       "<Figure size 640x480 with 1 Axes>"
      ]
     },
     "metadata": {},
     "output_type": "display_data"
    }
   ],
   "source": [
    "sns.lineplot(x = df.opening, y = df.p_finer)\n",
    "plt.xscale('log')\n",
    "plt.tick_params(axis = 'x', which = 'minor', bottom = False)\n",
    "plt.xlabel('Particle size (mm)')\n",
    "plt.ylabel('Percent Finer (%)')"
   ]
  },
  {
   "cell_type": "markdown",
   "metadata": {},
   "source": [
    "# Calculate D10,D30,D60 of aquifer formation"
   ]
  },
  {
   "cell_type": "code",
   "execution_count": 8,
   "metadata": {},
   "outputs": [
    {
     "name": "stdout",
     "output_type": "stream",
     "text": [
      "D10: 0.06 mm\n",
      "D30: 0.33 mm\n",
      "D60: 0.44 mm\n"
     ]
    }
   ],
   "source": [
    "d10 = l_interp(10)\n",
    "d30 = l_interp(30)\n",
    "d60 = l_interp(60)\n",
    "\n",
    "print(f'D10: {d10:.2f} mm')\n",
    "print(f'D30: {d30:.2f} mm')\n",
    "print(f'D60: {d60:.2f} mm')"
   ]
  },
  {
   "cell_type": "markdown",
   "metadata": {},
   "source": [
    "# Calculate coefficient of uniformity"
   ]
  },
  {
   "cell_type": "code",
   "execution_count": 9,
   "metadata": {},
   "outputs": [
    {
     "name": "stdout",
     "output_type": "stream",
     "text": [
      "Cu: 8.03\n"
     ]
    }
   ],
   "source": [
    "cu = (d60 / d10)\n",
    "\n",
    "print(f'Cu: {cu:.2f}')"
   ]
  },
  {
   "cell_type": "markdown",
   "metadata": {},
   "source": [
    "# Deciding pack-aquifer ratio"
   ]
  },
  {
   "cell_type": "code",
   "execution_count": 10,
   "metadata": {},
   "outputs": [
    {
     "name": "stdout",
     "output_type": "stream",
     "text": [
      "Pack aquifer ratio: 6\n"
     ]
    }
   ],
   "source": [
    "par = 4 \n",
    "\n",
    "if cu < 2:\n",
    "    par = 4\n",
    "elif cu > 2:\n",
    "    par = 6\n",
    "\n",
    "print(f'Pack aquifer ratio: {par}')"
   ]
  },
  {
   "cell_type": "markdown",
   "metadata": {},
   "source": [
    "# Artificial gravel pack calculation"
   ]
  },
  {
   "cell_type": "code",
   "execution_count": 11,
   "metadata": {},
   "outputs": [
    {
     "data": {
      "text/plain": [
       "Text(0, 0.5, 'Percent Finer (%)')"
      ]
     },
     "execution_count": 11,
     "metadata": {},
     "output_type": "execute_result"
    },
    {
     "data": {
      "image/png": "[encoded data removed]",
      "text/plain": [
       "<Figure size 640x480 with 1 Axes>"
      ]
     },
     "metadata": {},
     "output_type": "display_data"
    }
   ],
   "source": [
    "plt.plot(df.opening*par, df.p_finer, color = 'blue', marker = 'x')\n",
    "plt.plot(df.opening, df.p_finer, color = 'red', marker = 'o')\n",
    "plt.xscale('log')\n",
    "plt.legend(['Gravel', 'Aquifer'])\n",
    "plt.xlabel('Particle size (mm)')\n",
    "plt.ylabel('Percent Finer (%)')"
   ]
  },
  {
   "cell_type": "code",
   "execution_count": 12,
   "metadata": {},
   "outputs": [
    {
     "name": "stdout",
     "output_type": "stream",
     "text": [
      "Gravel pack size D10: 0.33 mm\n",
      "Gravel pack size D30: 1.98 mm\n",
      "Gravel pack size D60: 2.67 mm\n"
     ]
    }
   ],
   "source": [
    "print(f'Gravel pack size D10: {l_interp(10) * par:.2f} mm')\n",
    "print(f'Gravel pack size D30: {l_interp(30) * par:.2f} mm')\n",
    "print(f'Gravel pack size D60: {l_interp(60) * par:.2f} mm')"
   ]
  }
 ],
 "metadata": {
  "kernelspec": {
   "display_name": "Python 3 (ipykernel)",
   "language": "python",
   "name": "python3"
  },
  "language_info": {
   "codemirror_mode": {
    "name": "ipython",
    "version": 3
   },
   "file_extension": ".py",
   "mimetype": "text/x-python",
   "name": "python",
   "nbconvert_exporter": "python",
   "pygments_lexer": "ipython3",
   "version": "3.11.5"
  }
 },
 "nbformat": 4,
 "nbformat_minor": 4
}
